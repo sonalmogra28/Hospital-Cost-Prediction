{
  "cells": [
    {
      "cell_type": "code",
      "execution_count": 1,
      "metadata": {
        "id": "Jki4oVC48lIE"
      },
      "outputs": [],
      "source": [
        "# import dependecies\n",
        "import pandas as pd\n",
        "import seaborn as sns\n",
        "import numpy as np\n",
        "import matplotlib.pyplot as plt"
      ]
    },
    {
      "cell_type": "markdown",
      "metadata": {
        "id": "ZK2RBLiv8lIH"
      },
      "source": []
    },
    {
      "cell_type": "code",
      "execution_count": 2,
      "metadata": {
        "colab": {
          "base_uri": "https://localhost:8080/"
        },
        "id": "FPPBZ-6i8lIJ",
        "outputId": "1e964e35-6846-43a1-bf06-4aae33ad7d0f"
      },
      "outputs": [
        {
          "output_type": "stream",
          "name": "stdout",
          "text": [
            "Drive already mounted at /content/drive; to attempt to forcibly remount, call drive.mount(\"/content/drive\", force_remount=True).\n"
          ]
        },
        {
          "output_type": "execute_result",
          "data": {
            "text/plain": [
              "(1338, 7)"
            ]
          },
          "metadata": {},
          "execution_count": 2
        }
      ],
      "source": [
        "from google.colab import drive\n",
        "import pandas as pd\n",
        "drive.mount('/content/drive')\n",
        "maindf = pd.read_csv('/content/drive/MyDrive/HospitalCost.csv')\n",
        "\n",
        "maindf.shape"
      ]
    },
    {
      "cell_type": "code",
      "execution_count": 3,
      "metadata": {
        "id": "8Ea7Nrib8lIL",
        "colab": {
          "base_uri": "https://localhost:8080/",
          "height": 423
        },
        "outputId": "42e72b0b-2a49-43da-de4e-24c5e0274f8e"
      },
      "outputs": [
        {
          "output_type": "execute_result",
          "data": {
            "text/plain": [
              "      age     sex     bmi  children smoker     region      charges\n",
              "0      19  female  37.900         0    yes  southwest  16884.93400\n",
              "1      18    male  33.770         1     no  southeast   1735.55330\n",
              "2      38    male  33.000         3     no  southeast   4449.46300\n",
              "3      33    male  33.705         0     no  northwest  31984.47061\n",
              "4      33    male  38.880         0     no  northwest   3866.85530\n",
              "...   ...     ...     ...       ...    ...        ...          ...\n",
              "1333   50    male  30.970         3     no  northwest  10600.54830\n",
              "1334   18  female  31.930         0     no  northeast   3305.98080\n",
              "1335   18  female  36.850         0     no  southeast   1639.83350\n",
              "1336   31  female  35.800         0     no  southwest   3007.94500\n",
              "1337   61  female  39.070         0    yes  northwest  39141.36030\n",
              "\n",
              "[1338 rows x 7 columns]"
            ],
            "text/html": [
              "\n",
              "  <div id=\"df-2e074338-698f-4859-ab05-0f447a23c9fc\" class=\"colab-df-container\">\n",
              "    <div>\n",
              "<style scoped>\n",
              "    .dataframe tbody tr th:only-of-type {\n",
              "        vertical-align: middle;\n",
              "    }\n",
              "\n",
              "    .dataframe tbody tr th {\n",
              "        vertical-align: top;\n",
              "    }\n",
              "\n",
              "    .dataframe thead th {\n",
              "        text-align: right;\n",
              "    }\n",
              "</style>\n",
              "<table border=\"1\" class=\"dataframe\">\n",
              "  <thead>\n",
              "    <tr style=\"text-align: right;\">\n",
              "      <th></th>\n",
              "      <th>age</th>\n",
              "      <th>sex</th>\n",
              "      <th>bmi</th>\n",
              "      <th>children</th>\n",
              "      <th>smoker</th>\n",
              "      <th>region</th>\n",
              "      <th>charges</th>\n",
              "    </tr>\n",
              "  </thead>\n",
              "  <tbody>\n",
              "    <tr>\n",
              "      <th>0</th>\n",
              "      <td>19</td>\n",
              "      <td>female</td>\n",
              "      <td>37.900</td>\n",
              "      <td>0</td>\n",
              "      <td>yes</td>\n",
              "      <td>southwest</td>\n",
              "      <td>16884.93400</td>\n",
              "    </tr>\n",
              "    <tr>\n",
              "      <th>1</th>\n",
              "      <td>18</td>\n",
              "      <td>male</td>\n",
              "      <td>33.770</td>\n",
              "      <td>1</td>\n",
              "      <td>no</td>\n",
              "      <td>southeast</td>\n",
              "      <td>1735.55330</td>\n",
              "    </tr>\n",
              "    <tr>\n",
              "      <th>2</th>\n",
              "      <td>38</td>\n",
              "      <td>male</td>\n",
              "      <td>33.000</td>\n",
              "      <td>3</td>\n",
              "      <td>no</td>\n",
              "      <td>southeast</td>\n",
              "      <td>4449.46300</td>\n",
              "    </tr>\n",
              "    <tr>\n",
              "      <th>3</th>\n",
              "      <td>33</td>\n",
              "      <td>male</td>\n",
              "      <td>33.705</td>\n",
              "      <td>0</td>\n",
              "      <td>no</td>\n",
              "      <td>northwest</td>\n",
              "      <td>31984.47061</td>\n",
              "    </tr>\n",
              "    <tr>\n",
              "      <th>4</th>\n",
              "      <td>33</td>\n",
              "      <td>male</td>\n",
              "      <td>38.880</td>\n",
              "      <td>0</td>\n",
              "      <td>no</td>\n",
              "      <td>northwest</td>\n",
              "      <td>3866.85530</td>\n",
              "    </tr>\n",
              "    <tr>\n",
              "      <th>...</th>\n",
              "      <td>...</td>\n",
              "      <td>...</td>\n",
              "      <td>...</td>\n",
              "      <td>...</td>\n",
              "      <td>...</td>\n",
              "      <td>...</td>\n",
              "      <td>...</td>\n",
              "    </tr>\n",
              "    <tr>\n",
              "      <th>1333</th>\n",
              "      <td>50</td>\n",
              "      <td>male</td>\n",
              "      <td>30.970</td>\n",
              "      <td>3</td>\n",
              "      <td>no</td>\n",
              "      <td>northwest</td>\n",
              "      <td>10600.54830</td>\n",
              "    </tr>\n",
              "    <tr>\n",
              "      <th>1334</th>\n",
              "      <td>18</td>\n",
              "      <td>female</td>\n",
              "      <td>31.930</td>\n",
              "      <td>0</td>\n",
              "      <td>no</td>\n",
              "      <td>northeast</td>\n",
              "      <td>3305.98080</td>\n",
              "    </tr>\n",
              "    <tr>\n",
              "      <th>1335</th>\n",
              "      <td>18</td>\n",
              "      <td>female</td>\n",
              "      <td>36.850</td>\n",
              "      <td>0</td>\n",
              "      <td>no</td>\n",
              "      <td>southeast</td>\n",
              "      <td>1639.83350</td>\n",
              "    </tr>\n",
              "    <tr>\n",
              "      <th>1336</th>\n",
              "      <td>31</td>\n",
              "      <td>female</td>\n",
              "      <td>35.800</td>\n",
              "      <td>0</td>\n",
              "      <td>no</td>\n",
              "      <td>southwest</td>\n",
              "      <td>3007.94500</td>\n",
              "    </tr>\n",
              "    <tr>\n",
              "      <th>1337</th>\n",
              "      <td>61</td>\n",
              "      <td>female</td>\n",
              "      <td>39.070</td>\n",
              "      <td>0</td>\n",
              "      <td>yes</td>\n",
              "      <td>northwest</td>\n",
              "      <td>39141.36030</td>\n",
              "    </tr>\n",
              "  </tbody>\n",
              "</table>\n",
              "<p>1338 rows × 7 columns</p>\n",
              "</div>\n",
              "    <div class=\"colab-df-buttons\">\n",
              "\n",
              "  <div class=\"colab-df-container\">\n",
              "    <button class=\"colab-df-convert\" onclick=\"convertToInteractive('df-2e074338-698f-4859-ab05-0f447a23c9fc')\"\n",
              "            title=\"Convert this dataframe to an interactive table.\"\n",
              "            style=\"display:none;\">\n",
              "\n",
              "  <svg xmlns=\"http://www.w3.org/2000/svg\" height=\"24px\" viewBox=\"0 -960 960 960\">\n",
              "    <path d=\"M120-120v-720h720v720H120Zm60-500h600v-160H180v160Zm220 220h160v-160H400v160Zm0 220h160v-160H400v160ZM180-400h160v-160H180v160Zm440 0h160v-160H620v160ZM180-180h160v-160H180v160Zm440 0h160v-160H620v160Z\"/>\n",
              "  </svg>\n",
              "    </button>\n",
              "\n",
              "  <style>\n",
              "    .colab-df-container {\n",
              "      display:flex;\n",
              "      gap: 12px;\n",
              "    }\n",
              "\n",
              "    .colab-df-convert {\n",
              "      background-color: #E8F0FE;\n",
              "      border: none;\n",
              "      border-radius: 50%;\n",
              "      cursor: pointer;\n",
              "      display: none;\n",
              "      fill: #1967D2;\n",
              "      height: 32px;\n",
              "      padding: 0 0 0 0;\n",
              "      width: 32px;\n",
              "    }\n",
              "\n",
              "    .colab-df-convert:hover {\n",
              "      background-color: #E2EBFA;\n",
              "      box-shadow: 0px 1px 2px rgba(60, 64, 67, 0.3), 0px 1px 3px 1px rgba(60, 64, 67, 0.15);\n",
              "      fill: #174EA6;\n",
              "    }\n",
              "\n",
              "    .colab-df-buttons div {\n",
              "      margin-bottom: 4px;\n",
              "    }\n",
              "\n",
              "    [theme=dark] .colab-df-convert {\n",
              "      background-color: #3B4455;\n",
              "      fill: #D2E3FC;\n",
              "    }\n",
              "\n",
              "    [theme=dark] .colab-df-convert:hover {\n",
              "      background-color: #434B5C;\n",
              "      box-shadow: 0px 1px 3px 1px rgba(0, 0, 0, 0.15);\n",
              "      filter: drop-shadow(0px 1px 2px rgba(0, 0, 0, 0.3));\n",
              "      fill: #FFFFFF;\n",
              "    }\n",
              "  </style>\n",
              "\n",
              "    <script>\n",
              "      const buttonEl =\n",
              "        document.querySelector('#df-2e074338-698f-4859-ab05-0f447a23c9fc button.colab-df-convert');\n",
              "      buttonEl.style.display =\n",
              "        google.colab.kernel.accessAllowed ? 'block' : 'none';\n",
              "\n",
              "      async function convertToInteractive(key) {\n",
              "        const element = document.querySelector('#df-2e074338-698f-4859-ab05-0f447a23c9fc');\n",
              "        const dataTable =\n",
              "          await google.colab.kernel.invokeFunction('convertToInteractive',\n",
              "                                                    [key], {});\n",
              "        if (!dataTable) return;\n",
              "\n",
              "        const docLinkHtml = 'Like what you see? Visit the ' +\n",
              "          '<a target=\"_blank\" href=https://colab.research.google.com/notebooks/data_table.ipynb>data table notebook</a>'\n",
              "          + ' to learn more about interactive tables.';\n",
              "        element.innerHTML = '';\n",
              "        dataTable['output_type'] = 'display_data';\n",
              "        await google.colab.output.renderOutput(dataTable, element);\n",
              "        const docLink = document.createElement('div');\n",
              "        docLink.innerHTML = docLinkHtml;\n",
              "        element.appendChild(docLink);\n",
              "      }\n",
              "    </script>\n",
              "  </div>\n",
              "\n",
              "\n",
              "<div id=\"df-cac807cf-64e6-42c6-b018-e9c9a7b3ef71\">\n",
              "  <button class=\"colab-df-quickchart\" onclick=\"quickchart('df-cac807cf-64e6-42c6-b018-e9c9a7b3ef71')\"\n",
              "            title=\"Suggest charts\"\n",
              "            style=\"display:none;\">\n",
              "\n",
              "<svg xmlns=\"http://www.w3.org/2000/svg\" height=\"24px\"viewBox=\"0 0 24 24\"\n",
              "     width=\"24px\">\n",
              "    <g>\n",
              "        <path d=\"M19 3H5c-1.1 0-2 .9-2 2v14c0 1.1.9 2 2 2h14c1.1 0 2-.9 2-2V5c0-1.1-.9-2-2-2zM9 17H7v-7h2v7zm4 0h-2V7h2v10zm4 0h-2v-4h2v4z\"/>\n",
              "    </g>\n",
              "</svg>\n",
              "  </button>\n",
              "\n",
              "<style>\n",
              "  .colab-df-quickchart {\n",
              "      --bg-color: #E8F0FE;\n",
              "      --fill-color: #1967D2;\n",
              "      --hover-bg-color: #E2EBFA;\n",
              "      --hover-fill-color: #174EA6;\n",
              "      --disabled-fill-color: #AAA;\n",
              "      --disabled-bg-color: #DDD;\n",
              "  }\n",
              "\n",
              "  [theme=dark] .colab-df-quickchart {\n",
              "      --bg-color: #3B4455;\n",
              "      --fill-color: #D2E3FC;\n",
              "      --hover-bg-color: #434B5C;\n",
              "      --hover-fill-color: #FFFFFF;\n",
              "      --disabled-bg-color: #3B4455;\n",
              "      --disabled-fill-color: #666;\n",
              "  }\n",
              "\n",
              "  .colab-df-quickchart {\n",
              "    background-color: var(--bg-color);\n",
              "    border: none;\n",
              "    border-radius: 50%;\n",
              "    cursor: pointer;\n",
              "    display: none;\n",
              "    fill: var(--fill-color);\n",
              "    height: 32px;\n",
              "    padding: 0;\n",
              "    width: 32px;\n",
              "  }\n",
              "\n",
              "  .colab-df-quickchart:hover {\n",
              "    background-color: var(--hover-bg-color);\n",
              "    box-shadow: 0 1px 2px rgba(60, 64, 67, 0.3), 0 1px 3px 1px rgba(60, 64, 67, 0.15);\n",
              "    fill: var(--button-hover-fill-color);\n",
              "  }\n",
              "\n",
              "  .colab-df-quickchart-complete:disabled,\n",
              "  .colab-df-quickchart-complete:disabled:hover {\n",
              "    background-color: var(--disabled-bg-color);\n",
              "    fill: var(--disabled-fill-color);\n",
              "    box-shadow: none;\n",
              "  }\n",
              "\n",
              "  .colab-df-spinner {\n",
              "    border: 2px solid var(--fill-color);\n",
              "    border-color: transparent;\n",
              "    border-bottom-color: var(--fill-color);\n",
              "    animation:\n",
              "      spin 1s steps(1) infinite;\n",
              "  }\n",
              "\n",
              "  @keyframes spin {\n",
              "    0% {\n",
              "      border-color: transparent;\n",
              "      border-bottom-color: var(--fill-color);\n",
              "      border-left-color: var(--fill-color);\n",
              "    }\n",
              "    20% {\n",
              "      border-color: transparent;\n",
              "      border-left-color: var(--fill-color);\n",
              "      border-top-color: var(--fill-color);\n",
              "    }\n",
              "    30% {\n",
              "      border-color: transparent;\n",
              "      border-left-color: var(--fill-color);\n",
              "      border-top-color: var(--fill-color);\n",
              "      border-right-color: var(--fill-color);\n",
              "    }\n",
              "    40% {\n",
              "      border-color: transparent;\n",
              "      border-right-color: var(--fill-color);\n",
              "      border-top-color: var(--fill-color);\n",
              "    }\n",
              "    60% {\n",
              "      border-color: transparent;\n",
              "      border-right-color: var(--fill-color);\n",
              "    }\n",
              "    80% {\n",
              "      border-color: transparent;\n",
              "      border-right-color: var(--fill-color);\n",
              "      border-bottom-color: var(--fill-color);\n",
              "    }\n",
              "    90% {\n",
              "      border-color: transparent;\n",
              "      border-bottom-color: var(--fill-color);\n",
              "    }\n",
              "  }\n",
              "</style>\n",
              "\n",
              "  <script>\n",
              "    async function quickchart(key) {\n",
              "      const quickchartButtonEl =\n",
              "        document.querySelector('#' + key + ' button');\n",
              "      quickchartButtonEl.disabled = true;  // To prevent multiple clicks.\n",
              "      quickchartButtonEl.classList.add('colab-df-spinner');\n",
              "      try {\n",
              "        const charts = await google.colab.kernel.invokeFunction(\n",
              "            'suggestCharts', [key], {});\n",
              "      } catch (error) {\n",
              "        console.error('Error during call to suggestCharts:', error);\n",
              "      }\n",
              "      quickchartButtonEl.classList.remove('colab-df-spinner');\n",
              "      quickchartButtonEl.classList.add('colab-df-quickchart-complete');\n",
              "    }\n",
              "    (() => {\n",
              "      let quickchartButtonEl =\n",
              "        document.querySelector('#df-cac807cf-64e6-42c6-b018-e9c9a7b3ef71 button');\n",
              "      quickchartButtonEl.style.display =\n",
              "        google.colab.kernel.accessAllowed ? 'block' : 'none';\n",
              "    })();\n",
              "  </script>\n",
              "</div>\n",
              "    </div>\n",
              "  </div>\n"
            ]
          },
          "metadata": {},
          "execution_count": 3
        }
      ],
      "source": [
        "maindf"
      ]
    },
    {
      "cell_type": "code",
      "source": [
        "#Which categories are included in our data set?\n",
        "maindf.columns"
      ],
      "metadata": {
        "colab": {
          "base_uri": "https://localhost:8080/"
        },
        "id": "S3HsGEuU1Jt7",
        "outputId": "4bb52008-e59e-40e5-8cee-ffc2c97b1950"
      },
      "execution_count": 4,
      "outputs": [
        {
          "output_type": "execute_result",
          "data": {
            "text/plain": [
              "Index(['age', 'sex', 'bmi', 'children', 'smoker', 'region', 'charges'], dtype='object')"
            ]
          },
          "metadata": {},
          "execution_count": 4
        }
      ]
    },
    {
      "cell_type": "code",
      "execution_count": 5,
      "metadata": {
        "id": "ANIWqkt08lIN",
        "colab": {
          "base_uri": "https://localhost:8080/",
          "height": 300
        },
        "outputId": "c7012136-619d-45bc-cc2b-38187ff0ccdb"
      },
      "outputs": [
        {
          "output_type": "execute_result",
          "data": {
            "text/plain": [
              "               age          bmi     children       charges\n",
              "count  1338.000000  1338.000000  1338.000000   1338.000000\n",
              "mean     41.399103    35.182896     1.274290  14248.177488\n",
              "std      12.359998     4.520202     1.387608  13091.652901\n",
              "min      18.000000    15.960000     0.000000   1131.506600\n",
              "25%      33.000000    33.300000     0.000000   4740.362225\n",
              "50%      39.000000    35.300000     1.000000   9389.088100\n",
              "75%      51.000000    37.903750     3.000000  16639.912515\n",
              "max      64.000000    53.580000     5.000000  63770.438010"
            ],
            "text/html": [
              "\n",
              "  <div id=\"df-3fbdd437-cefd-4615-8903-a3eb8f6d99e3\" class=\"colab-df-container\">\n",
              "    <div>\n",
              "<style scoped>\n",
              "    .dataframe tbody tr th:only-of-type {\n",
              "        vertical-align: middle;\n",
              "    }\n",
              "\n",
              "    .dataframe tbody tr th {\n",
              "        vertical-align: top;\n",
              "    }\n",
              "\n",
              "    .dataframe thead th {\n",
              "        text-align: right;\n",
              "    }\n",
              "</style>\n",
              "<table border=\"1\" class=\"dataframe\">\n",
              "  <thead>\n",
              "    <tr style=\"text-align: right;\">\n",
              "      <th></th>\n",
              "      <th>age</th>\n",
              "      <th>bmi</th>\n",
              "      <th>children</th>\n",
              "      <th>charges</th>\n",
              "    </tr>\n",
              "  </thead>\n",
              "  <tbody>\n",
              "    <tr>\n",
              "      <th>count</th>\n",
              "      <td>1338.000000</td>\n",
              "      <td>1338.000000</td>\n",
              "      <td>1338.000000</td>\n",
              "      <td>1338.000000</td>\n",
              "    </tr>\n",
              "    <tr>\n",
              "      <th>mean</th>\n",
              "      <td>41.399103</td>\n",
              "      <td>35.182896</td>\n",
              "      <td>1.274290</td>\n",
              "      <td>14248.177488</td>\n",
              "    </tr>\n",
              "    <tr>\n",
              "      <th>std</th>\n",
              "      <td>12.359998</td>\n",
              "      <td>4.520202</td>\n",
              "      <td>1.387608</td>\n",
              "      <td>13091.652901</td>\n",
              "    </tr>\n",
              "    <tr>\n",
              "      <th>min</th>\n",
              "      <td>18.000000</td>\n",
              "      <td>15.960000</td>\n",
              "      <td>0.000000</td>\n",
              "      <td>1131.506600</td>\n",
              "    </tr>\n",
              "    <tr>\n",
              "      <th>25%</th>\n",
              "      <td>33.000000</td>\n",
              "      <td>33.300000</td>\n",
              "      <td>0.000000</td>\n",
              "      <td>4740.362225</td>\n",
              "    </tr>\n",
              "    <tr>\n",
              "      <th>50%</th>\n",
              "      <td>39.000000</td>\n",
              "      <td>35.300000</td>\n",
              "      <td>1.000000</td>\n",
              "      <td>9389.088100</td>\n",
              "    </tr>\n",
              "    <tr>\n",
              "      <th>75%</th>\n",
              "      <td>51.000000</td>\n",
              "      <td>37.903750</td>\n",
              "      <td>3.000000</td>\n",
              "      <td>16639.912515</td>\n",
              "    </tr>\n",
              "    <tr>\n",
              "      <th>max</th>\n",
              "      <td>64.000000</td>\n",
              "      <td>53.580000</td>\n",
              "      <td>5.000000</td>\n",
              "      <td>63770.438010</td>\n",
              "    </tr>\n",
              "  </tbody>\n",
              "</table>\n",
              "</div>\n",
              "    <div class=\"colab-df-buttons\">\n",
              "\n",
              "  <div class=\"colab-df-container\">\n",
              "    <button class=\"colab-df-convert\" onclick=\"convertToInteractive('df-3fbdd437-cefd-4615-8903-a3eb8f6d99e3')\"\n",
              "            title=\"Convert this dataframe to an interactive table.\"\n",
              "            style=\"display:none;\">\n",
              "\n",
              "  <svg xmlns=\"http://www.w3.org/2000/svg\" height=\"24px\" viewBox=\"0 -960 960 960\">\n",
              "    <path d=\"M120-120v-720h720v720H120Zm60-500h600v-160H180v160Zm220 220h160v-160H400v160Zm0 220h160v-160H400v160ZM180-400h160v-160H180v160Zm440 0h160v-160H620v160ZM180-180h160v-160H180v160Zm440 0h160v-160H620v160Z\"/>\n",
              "  </svg>\n",
              "    </button>\n",
              "\n",
              "  <style>\n",
              "    .colab-df-container {\n",
              "      display:flex;\n",
              "      gap: 12px;\n",
              "    }\n",
              "\n",
              "    .colab-df-convert {\n",
              "      background-color: #E8F0FE;\n",
              "      border: none;\n",
              "      border-radius: 50%;\n",
              "      cursor: pointer;\n",
              "      display: none;\n",
              "      fill: #1967D2;\n",
              "      height: 32px;\n",
              "      padding: 0 0 0 0;\n",
              "      width: 32px;\n",
              "    }\n",
              "\n",
              "    .colab-df-convert:hover {\n",
              "      background-color: #E2EBFA;\n",
              "      box-shadow: 0px 1px 2px rgba(60, 64, 67, 0.3), 0px 1px 3px 1px rgba(60, 64, 67, 0.15);\n",
              "      fill: #174EA6;\n",
              "    }\n",
              "\n",
              "    .colab-df-buttons div {\n",
              "      margin-bottom: 4px;\n",
              "    }\n",
              "\n",
              "    [theme=dark] .colab-df-convert {\n",
              "      background-color: #3B4455;\n",
              "      fill: #D2E3FC;\n",
              "    }\n",
              "\n",
              "    [theme=dark] .colab-df-convert:hover {\n",
              "      background-color: #434B5C;\n",
              "      box-shadow: 0px 1px 3px 1px rgba(0, 0, 0, 0.15);\n",
              "      filter: drop-shadow(0px 1px 2px rgba(0, 0, 0, 0.3));\n",
              "      fill: #FFFFFF;\n",
              "    }\n",
              "  </style>\n",
              "\n",
              "    <script>\n",
              "      const buttonEl =\n",
              "        document.querySelector('#df-3fbdd437-cefd-4615-8903-a3eb8f6d99e3 button.colab-df-convert');\n",
              "      buttonEl.style.display =\n",
              "        google.colab.kernel.accessAllowed ? 'block' : 'none';\n",
              "\n",
              "      async function convertToInteractive(key) {\n",
              "        const element = document.querySelector('#df-3fbdd437-cefd-4615-8903-a3eb8f6d99e3');\n",
              "        const dataTable =\n",
              "          await google.colab.kernel.invokeFunction('convertToInteractive',\n",
              "                                                    [key], {});\n",
              "        if (!dataTable) return;\n",
              "\n",
              "        const docLinkHtml = 'Like what you see? Visit the ' +\n",
              "          '<a target=\"_blank\" href=https://colab.research.google.com/notebooks/data_table.ipynb>data table notebook</a>'\n",
              "          + ' to learn more about interactive tables.';\n",
              "        element.innerHTML = '';\n",
              "        dataTable['output_type'] = 'display_data';\n",
              "        await google.colab.output.renderOutput(dataTable, element);\n",
              "        const docLink = document.createElement('div');\n",
              "        docLink.innerHTML = docLinkHtml;\n",
              "        element.appendChild(docLink);\n",
              "      }\n",
              "    </script>\n",
              "  </div>\n",
              "\n",
              "\n",
              "<div id=\"df-d78395ad-b4cb-4887-b9a1-8a4182e4b6c0\">\n",
              "  <button class=\"colab-df-quickchart\" onclick=\"quickchart('df-d78395ad-b4cb-4887-b9a1-8a4182e4b6c0')\"\n",
              "            title=\"Suggest charts\"\n",
              "            style=\"display:none;\">\n",
              "\n",
              "<svg xmlns=\"http://www.w3.org/2000/svg\" height=\"24px\"viewBox=\"0 0 24 24\"\n",
              "     width=\"24px\">\n",
              "    <g>\n",
              "        <path d=\"M19 3H5c-1.1 0-2 .9-2 2v14c0 1.1.9 2 2 2h14c1.1 0 2-.9 2-2V5c0-1.1-.9-2-2-2zM9 17H7v-7h2v7zm4 0h-2V7h2v10zm4 0h-2v-4h2v4z\"/>\n",
              "    </g>\n",
              "</svg>\n",
              "  </button>\n",
              "\n",
              "<style>\n",
              "  .colab-df-quickchart {\n",
              "      --bg-color: #E8F0FE;\n",
              "      --fill-color: #1967D2;\n",
              "      --hover-bg-color: #E2EBFA;\n",
              "      --hover-fill-color: #174EA6;\n",
              "      --disabled-fill-color: #AAA;\n",
              "      --disabled-bg-color: #DDD;\n",
              "  }\n",
              "\n",
              "  [theme=dark] .colab-df-quickchart {\n",
              "      --bg-color: #3B4455;\n",
              "      --fill-color: #D2E3FC;\n",
              "      --hover-bg-color: #434B5C;\n",
              "      --hover-fill-color: #FFFFFF;\n",
              "      --disabled-bg-color: #3B4455;\n",
              "      --disabled-fill-color: #666;\n",
              "  }\n",
              "\n",
              "  .colab-df-quickchart {\n",
              "    background-color: var(--bg-color);\n",
              "    border: none;\n",
              "    border-radius: 50%;\n",
              "    cursor: pointer;\n",
              "    display: none;\n",
              "    fill: var(--fill-color);\n",
              "    height: 32px;\n",
              "    padding: 0;\n",
              "    width: 32px;\n",
              "  }\n",
              "\n",
              "  .colab-df-quickchart:hover {\n",
              "    background-color: var(--hover-bg-color);\n",
              "    box-shadow: 0 1px 2px rgba(60, 64, 67, 0.3), 0 1px 3px 1px rgba(60, 64, 67, 0.15);\n",
              "    fill: var(--button-hover-fill-color);\n",
              "  }\n",
              "\n",
              "  .colab-df-quickchart-complete:disabled,\n",
              "  .colab-df-quickchart-complete:disabled:hover {\n",
              "    background-color: var(--disabled-bg-color);\n",
              "    fill: var(--disabled-fill-color);\n",
              "    box-shadow: none;\n",
              "  }\n",
              "\n",
              "  .colab-df-spinner {\n",
              "    border: 2px solid var(--fill-color);\n",
              "    border-color: transparent;\n",
              "    border-bottom-color: var(--fill-color);\n",
              "    animation:\n",
              "      spin 1s steps(1) infinite;\n",
              "  }\n",
              "\n",
              "  @keyframes spin {\n",
              "    0% {\n",
              "      border-color: transparent;\n",
              "      border-bottom-color: var(--fill-color);\n",
              "      border-left-color: var(--fill-color);\n",
              "    }\n",
              "    20% {\n",
              "      border-color: transparent;\n",
              "      border-left-color: var(--fill-color);\n",
              "      border-top-color: var(--fill-color);\n",
              "    }\n",
              "    30% {\n",
              "      border-color: transparent;\n",
              "      border-left-color: var(--fill-color);\n",
              "      border-top-color: var(--fill-color);\n",
              "      border-right-color: var(--fill-color);\n",
              "    }\n",
              "    40% {\n",
              "      border-color: transparent;\n",
              "      border-right-color: var(--fill-color);\n",
              "      border-top-color: var(--fill-color);\n",
              "    }\n",
              "    60% {\n",
              "      border-color: transparent;\n",
              "      border-right-color: var(--fill-color);\n",
              "    }\n",
              "    80% {\n",
              "      border-color: transparent;\n",
              "      border-right-color: var(--fill-color);\n",
              "      border-bottom-color: var(--fill-color);\n",
              "    }\n",
              "    90% {\n",
              "      border-color: transparent;\n",
              "      border-bottom-color: var(--fill-color);\n",
              "    }\n",
              "  }\n",
              "</style>\n",
              "\n",
              "  <script>\n",
              "    async function quickchart(key) {\n",
              "      const quickchartButtonEl =\n",
              "        document.querySelector('#' + key + ' button');\n",
              "      quickchartButtonEl.disabled = true;  // To prevent multiple clicks.\n",
              "      quickchartButtonEl.classList.add('colab-df-spinner');\n",
              "      try {\n",
              "        const charts = await google.colab.kernel.invokeFunction(\n",
              "            'suggestCharts', [key], {});\n",
              "      } catch (error) {\n",
              "        console.error('Error during call to suggestCharts:', error);\n",
              "      }\n",
              "      quickchartButtonEl.classList.remove('colab-df-spinner');\n",
              "      quickchartButtonEl.classList.add('colab-df-quickchart-complete');\n",
              "    }\n",
              "    (() => {\n",
              "      let quickchartButtonEl =\n",
              "        document.querySelector('#df-d78395ad-b4cb-4887-b9a1-8a4182e4b6c0 button');\n",
              "      quickchartButtonEl.style.display =\n",
              "        google.colab.kernel.accessAllowed ? 'block' : 'none';\n",
              "    })();\n",
              "  </script>\n",
              "</div>\n",
              "    </div>\n",
              "  </div>\n"
            ]
          },
          "metadata": {},
          "execution_count": 5
        }
      ],
      "source": [
        "maindf.describe() #The function “describe” will present characteristics of all numerical categories\n"
      ]
    },
    {
      "cell_type": "markdown",
      "metadata": {
        "id": "fGcXaYD28lIM"
      },
      "source": [
        "# Data Analysis\n",
        "\n",
        "# Age Group"
      ]
    },
    {
      "cell_type": "code",
      "source": [
        "maindf[\"age\"].describe()"
      ],
      "metadata": {
        "id": "BGeQuKEq2Hoj",
        "colab": {
          "base_uri": "https://localhost:8080/"
        },
        "outputId": "3c52865d-219d-4834-a49c-62a289fede91"
      },
      "execution_count": 6,
      "outputs": [
        {
          "output_type": "execute_result",
          "data": {
            "text/plain": [
              "count    1338.000000\n",
              "mean       41.399103\n",
              "std        12.359998\n",
              "min        18.000000\n",
              "25%        33.000000\n",
              "50%        39.000000\n",
              "75%        51.000000\n",
              "max        64.000000\n",
              "Name: age, dtype: float64"
            ]
          },
          "metadata": {},
          "execution_count": 6
        }
      ]
    },
    {
      "cell_type": "code",
      "execution_count": 7,
      "metadata": {
        "id": "lRbw0hUo8lIO",
        "colab": {
          "base_uri": "https://localhost:8080/",
          "height": 1000
        },
        "outputId": "b61862df-0f02-4983-aad2-6e4134cb5822"
      },
      "outputs": [
        {
          "output_type": "execute_result",
          "data": {
            "text/plain": [
              "<Axes: xlabel='age', ylabel='index'>"
            ]
          },
          "metadata": {},
          "execution_count": 7
        },
        {
          "output_type": "display_data",
          "data": {
            "text/plain": [
              "<Figure size 1000x1000 with 1 Axes>"
            ],
            "image/png": "[encoded data removed]"
          },
          "metadata": {}
        },
        {
          "output_type": "display_data",
          "data": {
            "text/plain": [
              "<Figure size 640x480 with 1 Axes>"
            ],
            "image/png": "[encoded data removed]"
          },
          "metadata": {}
        }
      ],
      "source": [
        "maindf.reset_index().groupby('age')['index'].count().plot(kind='bar',figsize=(10,10))\n",
        "pd.DataFrame(maindf.reset_index().groupby('age')['index'].count().reset_index()).plot(kind='scatter',x='age',y='index')"
      ]
    },
    {
      "cell_type": "markdown",
      "metadata": {
        "id": "yJ0vi13z8lIO"
      },
      "source": [
        "# Scatter Plot showing Age/Charges"
      ]
    },
    {
      "cell_type": "code",
      "execution_count": 8,
      "metadata": {
        "id": "172IrNk58lIP",
        "colab": {
          "base_uri": "https://localhost:8080/",
          "height": 867
        },
        "outputId": "b2442768-5419-4e17-cca2-dc3e1ff0ddd9"
      },
      "outputs": [
        {
          "output_type": "execute_result",
          "data": {
            "text/plain": [
              "<Axes: xlabel='region', ylabel='charges'>"
            ]
          },
          "metadata": {},
          "execution_count": 8
        },
        {
          "output_type": "display_data",
          "data": {
            "text/plain": [
              "<Figure size 1000x1000 with 1 Axes>"
            ],
            "image/png": "[encoded data removed]"
          },
          "metadata": {}
        }
      ],
      "source": [
        "maindf[['region','charges']].plot(kind='scatter',x='region',y='charges',c='DarkBlue',figsize=(10,10))"
      ]
    },
    {
      "cell_type": "code",
      "execution_count": 9,
      "metadata": {
        "id": "Cm7UmBIG8lIP",
        "colab": {
          "base_uri": "https://localhost:8080/",
          "height": 447
        },
        "outputId": "e0c8ebc5-144f-48c2-c2b3-25b8a9f63fae"
      },
      "outputs": [
        {
          "output_type": "execute_result",
          "data": {
            "text/plain": [
              "<Axes: >"
            ]
          },
          "metadata": {},
          "execution_count": 9
        },
        {
          "output_type": "display_data",
          "data": {
            "text/plain": [
              "<Figure size 640x480 with 1 Axes>"
            ],
            "image/png": "[encoded data removed]"
          },
          "metadata": {}
        }
      ],
      "source": [
        "#boxplot = df.boxplot(column=['Col1', 'Col2', 'Col3'])\n",
        "maindf.boxplot(column=['age', 'bmi', 'children']) #Box Plot: A Graphical Way to Show minimum, maximum, median, and two quartiles"
      ]
    },
    {
      "cell_type": "markdown",
      "metadata": {
        "id": "bTisefI98lIP"
      },
      "source": [
        "# Data Analysis on Gender"
      ]
    },
    {
      "cell_type": "code",
      "execution_count": 10,
      "metadata": {
        "id": "ud76QpwK8lIP",
        "colab": {
          "base_uri": "https://localhost:8080/"
        },
        "outputId": "edbddaa2-120a-4703-9da6-46811408c20e"
      },
      "outputs": [
        {
          "output_type": "execute_result",
          "data": {
            "text/plain": [
              "count     1338\n",
              "unique       2\n",
              "top       male\n",
              "freq       676\n",
              "Name: sex, dtype: object"
            ]
          },
          "metadata": {},
          "execution_count": 10
        }
      ],
      "source": [
        "maindf['sex'].describe()"
      ]
    },
    {
      "cell_type": "code",
      "execution_count": 11,
      "metadata": {
        "id": "kB-nO_Sg8lIQ",
        "colab": {
          "base_uri": "https://localhost:8080/",
          "height": 481
        },
        "outputId": "3259091d-08a6-4221-8318-b8ff10018c52"
      },
      "outputs": [
        {
          "output_type": "execute_result",
          "data": {
            "text/plain": [
              "<Axes: >"
            ]
          },
          "metadata": {},
          "execution_count": 11
        },
        {
          "output_type": "display_data",
          "data": {
            "text/plain": [
              "<Figure size 640x480 with 1 Axes>"
            ],
            "image/png": "[encoded data removed]"
          },
          "metadata": {}
        }
      ],
      "source": [
        "maindf['sex'].value_counts().plot(kind='bar')"
      ]
    },
    {
      "cell_type": "markdown",
      "metadata": {
        "id": "OzMQg9nH8lIQ"
      },
      "source": [
        "# Analysis between Sex & Charges"
      ]
    },
    {
      "cell_type": "code",
      "execution_count": 12,
      "metadata": {
        "id": "7hGlX3TT8lIQ",
        "colab": {
          "base_uri": "https://localhost:8080/",
          "height": 636
        },
        "outputId": "3402e4b2-6429-43ea-b652-a29d657624db"
      },
      "outputs": [
        {
          "output_type": "execute_result",
          "data": {
            "text/plain": [
              "array([<Axes: xlabel='sex'>, <Axes: xlabel='sex'>], dtype=object)"
            ]
          },
          "metadata": {},
          "execution_count": 12
        },
        {
          "output_type": "display_data",
          "data": {
            "text/plain": [
              "<Figure size 700x700 with 2 Axes>"
            ],
            "image/png": "[encoded data removed]"
          },
          "metadata": {}
        }
      ],
      "source": [
        "temp = maindf[['sex', 'charges']].copy()  # Create a copy to avoid SettingWithCopyWarning\n",
        "\n",
        "temp.loc[temp['sex'] == 'male', 'charges_male'] = temp.loc[temp['sex'] == 'male', 'charges']\n",
        "temp.loc[temp['sex'] != 'male', 'charges_female'] = temp.loc[temp['sex'] != 'male', 'charges']\n",
        "\n",
        "temp = temp.sort_values('charges', ascending=False)\n",
        "\n",
        "# Plotting the charges for male and female separately\n",
        "temp[['sex', 'charges_male', 'charges_female']].set_index('sex').plot(figsize=(7, 7), subplots=True)\n"
      ]
    },
    {
      "cell_type": "code",
      "execution_count": 13,
      "metadata": {
        "id": "dlPJ1bEd8lIQ",
        "colab": {
          "base_uri": "https://localhost:8080/"
        },
        "outputId": "291d3e91-8250-48f5-fcdf-44dd8f79f312"
      },
      "outputs": [
        {
          "output_type": "execute_result",
          "data": {
            "text/plain": [
              "count      676.000000\n",
              "mean     14907.099375\n",
              "std      13825.553581\n",
              "min       1131.506600\n",
              "25%       4619.159000\n",
              "50%       9387.099000\n",
              "75%      18990.340250\n",
              "max      63593.873090\n",
              "Name: charges_male, dtype: float64"
            ]
          },
          "metadata": {},
          "execution_count": 13
        }
      ],
      "source": [
        "temp['charges_male'].describe()"
      ]
    },
    {
      "cell_type": "code",
      "execution_count": 14,
      "metadata": {
        "id": "37KxVF988lIR",
        "colab": {
          "base_uri": "https://localhost:8080/"
        },
        "outputId": "4db54a08-7d39-47d3-c17e-6d0fd8fde20d"
      },
      "outputs": [
        {
          "output_type": "execute_result",
          "data": {
            "text/plain": [
              "count      662.000000\n",
              "mean     13575.320696\n",
              "std      12271.114721\n",
              "min       1607.510100\n",
              "25%       4885.158700\n",
              "50%       9412.967500\n",
              "75%      14454.691825\n",
              "max      63770.438010\n",
              "Name: charges_female, dtype: float64"
            ]
          },
          "metadata": {},
          "execution_count": 14
        }
      ],
      "source": [
        "temp['charges_female'].describe()"
      ]
    },
    {
      "cell_type": "code",
      "execution_count": 15,
      "metadata": {
        "id": "vU1LQnzX8lIR",
        "colab": {
          "base_uri": "https://localhost:8080/",
          "height": 466
        },
        "outputId": "39076bf5-e49e-4568-9eaa-0ee682100752"
      },
      "outputs": [
        {
          "output_type": "execute_result",
          "data": {
            "text/plain": [
              "<Axes: xlabel='sex', ylabel='charges'>"
            ]
          },
          "metadata": {},
          "execution_count": 15
        },
        {
          "output_type": "display_data",
          "data": {
            "text/plain": [
              "<Figure size 640x480 with 1 Axes>"
            ],
            "image/png": "[encoded data removed]"
          },
          "metadata": {}
        }
      ],
      "source": [
        "temp=maindf.copy()\n",
        "temp.loc[temp['sex']=='male','sex']=str(1)\n",
        "temp.loc[temp['sex']!='1','sex']=str(2)\n",
        "\n",
        "temp['sex']= temp['sex'].astype(int)\n",
        "#temp['sex'].unique()\n",
        "temp[['sex','charges']].plot(kind='scatter',x='sex',y='charges')"
      ]
    },
    {
      "cell_type": "markdown",
      "metadata": {
        "id": "F3QYU6f_8lIR"
      },
      "source": [
        "# BMI Analysis"
      ]
    },
    {
      "cell_type": "code",
      "execution_count": 16,
      "metadata": {
        "id": "KkSNXvLG8lIR",
        "colab": {
          "base_uri": "https://localhost:8080/"
        },
        "outputId": "7baf2726-71de-4576-f23a-c1f971c2a379"
      },
      "outputs": [
        {
          "output_type": "execute_result",
          "data": {
            "text/plain": [
              "count    1338.000000\n",
              "mean       35.182896\n",
              "std         4.520202\n",
              "min        15.960000\n",
              "25%        33.300000\n",
              "50%        35.300000\n",
              "75%        37.903750\n",
              "max        53.580000\n",
              "Name: bmi, dtype: float64"
            ]
          },
          "metadata": {},
          "execution_count": 16
        }
      ],
      "source": [
        "maindf['bmi'].describe()"
      ]
    },
    {
      "cell_type": "code",
      "execution_count": 17,
      "metadata": {
        "id": "uwOapY4W8lIR",
        "colab": {
          "base_uri": "https://localhost:8080/",
          "height": 466
        },
        "outputId": "d93b75e0-99c3-4ad7-c97d-af77b244172c"
      },
      "outputs": [
        {
          "output_type": "execute_result",
          "data": {
            "text/plain": [
              "<Axes: xlabel='bmi', ylabel='charges'>"
            ]
          },
          "metadata": {},
          "execution_count": 17
        },
        {
          "output_type": "display_data",
          "data": {
            "text/plain": [
              "<Figure size 640x480 with 1 Axes>"
            ],
            "image/png": "[encoded data removed]"
          },
          "metadata": {}
        }
      ],
      "source": [
        "maindf[['bmi','charges']].plot(kind='scatter',x='bmi',y='charges')"
      ]
    },
    {
      "cell_type": "markdown",
      "metadata": {
        "id": "919HG7068lIR"
      },
      "source": [
        "# Analysis with Children"
      ]
    },
    {
      "cell_type": "code",
      "execution_count": 18,
      "metadata": {
        "id": "eR0SQ09r8lIR",
        "colab": {
          "base_uri": "https://localhost:8080/"
        },
        "outputId": "f7f85fc3-eadf-4cd1-8841-f9cedd4a8b62"
      },
      "outputs": [
        {
          "output_type": "execute_result",
          "data": {
            "text/plain": [
              "Index(['age', 'sex', 'bmi', 'children', 'smoker', 'region', 'charges'], dtype='object')"
            ]
          },
          "metadata": {},
          "execution_count": 18
        }
      ],
      "source": [
        "maindf.columns"
      ]
    },
    {
      "cell_type": "code",
      "execution_count": 19,
      "metadata": {
        "id": "92xZZqhx8lIR",
        "colab": {
          "base_uri": "https://localhost:8080/"
        },
        "outputId": "530f8fb7-d8a4-4709-fbfb-e98d690b2d39"
      },
      "outputs": [
        {
          "output_type": "execute_result",
          "data": {
            "text/plain": [
              "count    1338.000000\n",
              "mean        1.274290\n",
              "std         1.387608\n",
              "min         0.000000\n",
              "25%         0.000000\n",
              "50%         1.000000\n",
              "75%         3.000000\n",
              "max         5.000000\n",
              "Name: children, dtype: float64"
            ]
          },
          "metadata": {},
          "execution_count": 19
        }
      ],
      "source": [
        "maindf['children'].describe()"
      ]
    },
    {
      "cell_type": "code",
      "execution_count": 20,
      "metadata": {
        "id": "f21N46Kl8lIR",
        "colab": {
          "base_uri": "https://localhost:8080/",
          "height": 451
        },
        "outputId": "ba1badb5-9987-4c63-927f-5943e645c921"
      },
      "outputs": [
        {
          "output_type": "execute_result",
          "data": {
            "text/plain": [
              "<Axes: >"
            ]
          },
          "metadata": {},
          "execution_count": 20
        },
        {
          "output_type": "display_data",
          "data": {
            "text/plain": [
              "<Figure size 640x480 with 1 Axes>"
            ],
            "image/png": "[encoded data removed]"
          },
          "metadata": {}
        }
      ],
      "source": [
        "maindf['children'].value_counts().plot(kind='bar',rot=0)"
      ]
    },
    {
      "cell_type": "code",
      "execution_count": 21,
      "metadata": {
        "id": "R4j4jCov8lIS",
        "colab": {
          "base_uri": "https://localhost:8080/",
          "height": 466
        },
        "outputId": "1bdf96d6-6e5e-40c1-e019-5ed97baa8de7"
      },
      "outputs": [
        {
          "output_type": "execute_result",
          "data": {
            "text/plain": [
              "<Axes: xlabel='children', ylabel='charges'>"
            ]
          },
          "metadata": {},
          "execution_count": 21
        },
        {
          "output_type": "display_data",
          "data": {
            "text/plain": [
              "<Figure size 640x480 with 1 Axes>"
            ],
            "image/png": "[encoded data removed]"
          },
          "metadata": {}
        }
      ],
      "source": [
        "maindf[['children','charges']].plot(kind='scatter',x='children',y='charges')"
      ]
    },
    {
      "cell_type": "markdown",
      "metadata": {
        "id": "Q8X5Zw2V8lIS"
      },
      "source": [
        "# Analysis on Smokers"
      ]
    },
    {
      "cell_type": "code",
      "execution_count": 22,
      "metadata": {
        "id": "SVXM2tv98lIS",
        "colab": {
          "base_uri": "https://localhost:8080/"
        },
        "outputId": "85a3d9e1-426c-4475-cc8c-c7893274e259"
      },
      "outputs": [
        {
          "output_type": "execute_result",
          "data": {
            "text/plain": [
              "count     1338\n",
              "unique       2\n",
              "top         no\n",
              "freq      1064\n",
              "Name: smoker, dtype: object"
            ]
          },
          "metadata": {},
          "execution_count": 22
        }
      ],
      "source": [
        "maindf['smoker'].describe()"
      ]
    },
    {
      "cell_type": "code",
      "execution_count": 23,
      "metadata": {
        "id": "euZQvPIC8lIS"
      },
      "outputs": [],
      "source": [
        "maindf.loc[maindf['smoker'] == 'no', 'smoker'] = '0'\n",
        "maindf.loc[maindf['smoker'] != '0', 'smoker'] = '1'\n",
        "maindf['smoker'] = maindf['smoker'].astype(int)\n"
      ]
    },
    {
      "cell_type": "code",
      "execution_count": 24,
      "metadata": {
        "id": "JPRVT4fX8lIS",
        "colab": {
          "base_uri": "https://localhost:8080/",
          "height": 466
        },
        "outputId": "94f7d598-77ba-4625-dee3-8e83490e9ee7"
      },
      "outputs": [
        {
          "output_type": "execute_result",
          "data": {
            "text/plain": [
              "<Axes: xlabel='smoker', ylabel='charges'>"
            ]
          },
          "metadata": {},
          "execution_count": 24
        },
        {
          "output_type": "display_data",
          "data": {
            "text/plain": [
              "<Figure size 640x480 with 1 Axes>"
            ],
            "image/png": "[encoded data removed]"
          },
          "metadata": {}
        }
      ],
      "source": [
        "maindf[['smoker','charges']].plot(kind='scatter',x='smoker',y='charges')"
      ]
    },
    {
      "cell_type": "markdown",
      "metadata": {
        "id": "vKYdf8668lIS"
      },
      "source": [
        "# Regional Analysis"
      ]
    },
    {
      "cell_type": "code",
      "execution_count": 25,
      "metadata": {
        "id": "jSkWp1Jv8lIS",
        "colab": {
          "base_uri": "https://localhost:8080/",
          "height": 504
        },
        "outputId": "16091648-9eaa-4d67-c15b-17a6f9969f00"
      },
      "outputs": [
        {
          "output_type": "execute_result",
          "data": {
            "text/plain": [
              "<Axes: >"
            ]
          },
          "metadata": {},
          "execution_count": 25
        },
        {
          "output_type": "display_data",
          "data": {
            "text/plain": [
              "<Figure size 640x480 with 1 Axes>"
            ],
            "image/png": "[encoded data removed]"
          },
          "metadata": {}
        }
      ],
      "source": [
        "maindf['region'].value_counts().plot(kind='bar')"
      ]
    },
    {
      "cell_type": "code",
      "execution_count": 46,
      "metadata": {
        "id": "nozq_O1N8lIT",
        "colab": {
          "base_uri": "https://localhost:8080/",
          "height": 536
        },
        "outputId": "f9fd0324-6305-4521-8892-34315f2b60b0"
      },
      "outputs": [
        {
          "output_type": "stream",
          "name": "stdout",
          "text": [
            "southwest  =  0\n",
            "southeast  =  1\n",
            "northwest  =  2\n",
            "northeast  =  3\n"
          ]
        },
        {
          "output_type": "execute_result",
          "data": {
            "text/plain": [
              "<Axes: xlabel='region', ylabel='charges'>"
            ]
          },
          "metadata": {},
          "execution_count": 46
        },
        {
          "output_type": "display_data",
          "data": {
            "text/plain": [
              "<Figure size 640x480 with 1 Axes>"
            ],
            "image/png": "[encoded data removed]"
          },
          "metadata": {}
        }
      ],
      "source": [
        "temp = maindf[['region','charges']].copy()\n",
        "temp['temp'] = np.nan\n",
        "q=-1\n",
        "for region in maindf['region'].unique():\n",
        "    q+=1\n",
        "    temp.loc[temp['region']==region,'temp'] = str(q)\n",
        "    print(region,' = ',q)\n",
        "\n",
        "temp['region'] = np.nan\n",
        "temp['region']= temp['temp']\n",
        "temp['region'] = temp['region'].astype(int)\n",
        "del temp['temp']\n",
        "temp[['region','charges']].plot(kind='scatter',x='region',y='charges')"
      ]
    },
    {
      "cell_type": "markdown",
      "metadata": {
        "id": "G6ftjA6a8lIT"
      },
      "source": [
        "# Correlating each variables with charges"
      ]
    },
    {
      "cell_type": "code",
      "execution_count": 47,
      "metadata": {
        "id": "W72q4XU58lIT"
      },
      "outputs": [],
      "source": [
        "maindf = pd.read_csv('/content/drive/MyDrive/HospitalCost.csv')"
      ]
    },
    {
      "cell_type": "code",
      "execution_count": 48,
      "metadata": {
        "id": "40t80GSz8lIT"
      },
      "outputs": [],
      "source": [
        "temp = maindf.copy()\n",
        "\n",
        "temp.loc[temp['sex'] == 'male', 'sex'] = '1'\n",
        "temp.loc[temp['sex'] != '1', 'sex'] = '2'\n",
        "temp['sex'] = temp['sex'].astype(int)\n",
        "\n",
        "temp.loc[temp['smoker'] == 'no', 'smoker'] = '0'\n",
        "temp.loc[temp['smoker'] != '0', 'smoker'] = '1'\n",
        "temp['smoker'] = temp['smoker'].astype(int)\n",
        "\n",
        "temp['temp'] = np.nan\n",
        "q = -1\n",
        "\n",
        "for region in maindf['region'].unique():\n",
        "    q += 1\n",
        "    temp.loc[temp['region'] == region, 'temp'] = str(q)\n",
        "\n",
        "temp['region'] = temp['temp'].astype(int)\n",
        "del temp['temp']\n",
        "\n",
        "maindf = temp.copy()"
      ]
    },
    {
      "cell_type": "code",
      "execution_count": 49,
      "metadata": {
        "id": "xTD5UHib8lIT",
        "colab": {
          "base_uri": "https://localhost:8080/"
        },
        "outputId": "c3d588f1-74b3-4dc1-c62c-eb44d3fb11e8"
      },
      "outputs": [
        {
          "output_type": "execute_result",
          "data": {
            "text/plain": [
              "Index(['age', 'sex', 'bmi', 'children', 'smoker', 'region', 'charges'], dtype='object')"
            ]
          },
          "metadata": {},
          "execution_count": 49
        }
      ],
      "source": [
        "maindf.columns"
      ]
    },
    {
      "cell_type": "code",
      "execution_count": 50,
      "metadata": {
        "id": "4b05GdCS8lIT",
        "colab": {
          "base_uri": "https://localhost:8080/"
        },
        "outputId": "2a2a32c2-344c-467d-bef8-317e79762fd8"
      },
      "outputs": [
        {
          "output_type": "execute_result",
          "data": {
            "text/plain": [
              "smoker      0.778773\n",
              "age         0.292302\n",
              "bmi         0.072514\n",
              "children    0.069397\n",
              "region      0.019966\n",
              "sex        -0.050880\n",
              "Name: charges, dtype: float64"
            ]
          },
          "metadata": {},
          "execution_count": 50
        }
      ],
      "source": [
        "maindf.corr()['charges'].sort_values(ascending=False)[1:]"
      ]
    },
    {
      "cell_type": "markdown",
      "metadata": {
        "id": "8WM3SYix8lIY"
      },
      "source": [
        "# Findings"
      ]
    },
    {
      "cell_type": "markdown",
      "source": [],
      "metadata": {
        "id": "iNRtBzweADMw"
      }
    },
    {
      "cell_type": "markdown",
      "metadata": {
        "id": "16G1ShOZ8lIY"
      },
      "source": [
        "###### Finding correlations between different categories, e.g. bmi vs charges, smokers vs charges, children vs charges:\n",
        "##### It seems smokerS is highest when correlated with charges and the same pattern can be seen in visuals of smoker vs charges.\n",
        "\n",
        "##### What categories contributed more to the health cost, if so & why? categories columns : smoker,children,region. Yes, smoker is contrbuting most to the health cost , and rightly so is because smokers are more vulnerable to lung cancer, and other types of cancer , so they do spend more on insurance.\n",
        "\n",
        "##### What are the effects of medical/health cost between male & female, cigarettes usage, BMI effects? Effects of health cost on sex: Gender does not contribute at all to charges, means gender has no effect on charges . Either you are male and female, charges are unrelated to this.\n",
        "\n",
        "##### Effects of cigrattes (smokers) on health cost: As obvious, smokers are more vulnerable to health issues so they do have more charges than non-smokers effect of BMI on health cost: As shown in above visuals 'bmi vs charges' , there is a mix of response on charges, low bmi's also have high charges and high bmi's do also have high charges, and correlation also close to 0, so we can say that BMI has no effect on health cost."
      ]
    },
    {
      "cell_type": "markdown",
      "metadata": {
        "id": "DhYgD1EK8lIY"
      },
      "source": [
        "# Machine Learning Part\n",
        "\n",
        "Purpose: To determine the effect of several factors on insurance costs & predict the cost of health insurance based on factors that influence it."
      ]
    },
    {
      "cell_type": "code",
      "execution_count": 51,
      "metadata": {
        "id": "A4le-RMu8lIY",
        "colab": {
          "base_uri": "https://localhost:8080/"
        },
        "outputId": "c03dac68-8482-4b55-d340-c48bd2370ccd"
      },
      "outputs": [
        {
          "output_type": "execute_result",
          "data": {
            "text/plain": [
              "(1338, 7)"
            ]
          },
          "metadata": {},
          "execution_count": 51
        }
      ],
      "source": [
        "maindf = pd.read_csv('/content/drive/MyDrive/HospitalCost.csv')\n",
        "maindf.shape"
      ]
    },
    {
      "cell_type": "markdown",
      "metadata": {
        "id": "MdMVJebb8lIY"
      },
      "source": [
        "From the data analysis part we can see 3 factors are most influencing for the charge colum:\n",
        "a) smoker\n",
        "b) age\n",
        "c) bmi\n",
        "All 3 columns are responsible for the increase or decrease in price"
      ]
    },
    {
      "cell_type": "markdown",
      "metadata": {
        "id": "_tke1ucW8lIY"
      },
      "source": [
        "### Converting categorical column \"Smoker\" into integer for ML algorithm input"
      ]
    },
    {
      "cell_type": "code",
      "execution_count": 53,
      "metadata": {
        "id": "OQPdYSgt8lIY"
      },
      "outputs": [],
      "source": [
        "maindf.loc[maindf['smoker'] == 'no', 'smoker'] = '0'\n",
        "maindf.loc[maindf['smoker'] != '0', 'smoker'] = '1'\n",
        "maindf['smoker'] = maindf['smoker'].astype(int)"
      ]
    },
    {
      "cell_type": "code",
      "execution_count": 54,
      "metadata": {
        "id": "lVYNxtKJ8lIY",
        "colab": {
          "base_uri": "https://localhost:8080/"
        },
        "outputId": "08499b32-176e-4b37-d9a4-b907ce6b0403"
      },
      "outputs": [
        {
          "output_type": "execute_result",
          "data": {
            "text/plain": [
              "age           int64\n",
              "sex          object\n",
              "bmi         float64\n",
              "children      int64\n",
              "smoker        int64\n",
              "region       object\n",
              "charges     float64\n",
              "dtype: object"
            ]
          },
          "metadata": {},
          "execution_count": 54
        }
      ],
      "source": [
        "maindf.dtypes"
      ]
    },
    {
      "cell_type": "markdown",
      "metadata": {
        "id": "8pJJyY_K8lIY"
      },
      "source": [
        "### Now we do have columns in integer and floating points"
      ]
    },
    {
      "cell_type": "code",
      "execution_count": 55,
      "metadata": {
        "id": "XNAqcsIO8lIZ",
        "colab": {
          "base_uri": "https://localhost:8080/",
          "height": 423
        },
        "outputId": "b5e0cd1f-87a6-4749-aa0f-a9792e4b308d"
      },
      "outputs": [
        {
          "output_type": "execute_result",
          "data": {
            "text/plain": [
              "      smoker  age     bmi\n",
              "0          1   19  37.900\n",
              "1          1   18  33.770\n",
              "2          1   38  33.000\n",
              "3          1   33  33.705\n",
              "4          1   33  38.880\n",
              "...      ...  ...     ...\n",
              "1333       1   50  30.970\n",
              "1334       1   18  31.930\n",
              "1335       1   18  36.850\n",
              "1336       1   31  35.800\n",
              "1337       1   61  39.070\n",
              "\n",
              "[1338 rows x 3 columns]"
            ],
            "text/html": [
              "\n",
              "  <div id=\"df-e4f82bf0-8fc8-4de1-a81c-4701b8692b4e\" class=\"colab-df-container\">\n",
              "    <div>\n",
              "<style scoped>\n",
              "    .dataframe tbody tr th:only-of-type {\n",
              "        vertical-align: middle;\n",
              "    }\n",
              "\n",
              "    .dataframe tbody tr th {\n",
              "        vertical-align: top;\n",
              "    }\n",
              "\n",
              "    .dataframe thead th {\n",
              "        text-align: right;\n",
              "    }\n",
              "</style>\n",
              "<table border=\"1\" class=\"dataframe\">\n",
              "  <thead>\n",
              "    <tr style=\"text-align: right;\">\n",
              "      <th></th>\n",
              "      <th>smoker</th>\n",
              "      <th>age</th>\n",
              "      <th>bmi</th>\n",
              "    </tr>\n",
              "  </thead>\n",
              "  <tbody>\n",
              "    <tr>\n",
              "      <th>0</th>\n",
              "      <td>1</td>\n",
              "      <td>19</td>\n",
              "      <td>37.900</td>\n",
              "    </tr>\n",
              "    <tr>\n",
              "      <th>1</th>\n",
              "      <td>1</td>\n",
              "      <td>18</td>\n",
              "      <td>33.770</td>\n",
              "    </tr>\n",
              "    <tr>\n",
              "      <th>2</th>\n",
              "      <td>1</td>\n",
              "      <td>38</td>\n",
              "      <td>33.000</td>\n",
              "    </tr>\n",
              "    <tr>\n",
              "      <th>3</th>\n",
              "      <td>1</td>\n",
              "      <td>33</td>\n",
              "      <td>33.705</td>\n",
              "    </tr>\n",
              "    <tr>\n",
              "      <th>4</th>\n",
              "      <td>1</td>\n",
              "      <td>33</td>\n",
              "      <td>38.880</td>\n",
              "    </tr>\n",
              "    <tr>\n",
              "      <th>...</th>\n",
              "      <td>...</td>\n",
              "      <td>...</td>\n",
              "      <td>...</td>\n",
              "    </tr>\n",
              "    <tr>\n",
              "      <th>1333</th>\n",
              "      <td>1</td>\n",
              "      <td>50</td>\n",
              "      <td>30.970</td>\n",
              "    </tr>\n",
              "    <tr>\n",
              "      <th>1334</th>\n",
              "      <td>1</td>\n",
              "      <td>18</td>\n",
              "      <td>31.930</td>\n",
              "    </tr>\n",
              "    <tr>\n",
              "      <th>1335</th>\n",
              "      <td>1</td>\n",
              "      <td>18</td>\n",
              "      <td>36.850</td>\n",
              "    </tr>\n",
              "    <tr>\n",
              "      <th>1336</th>\n",
              "      <td>1</td>\n",
              "      <td>31</td>\n",
              "      <td>35.800</td>\n",
              "    </tr>\n",
              "    <tr>\n",
              "      <th>1337</th>\n",
              "      <td>1</td>\n",
              "      <td>61</td>\n",
              "      <td>39.070</td>\n",
              "    </tr>\n",
              "  </tbody>\n",
              "</table>\n",
              "<p>1338 rows × 3 columns</p>\n",
              "</div>\n",
              "    <div class=\"colab-df-buttons\">\n",
              "\n",
              "  <div class=\"colab-df-container\">\n",
              "    <button class=\"colab-df-convert\" onclick=\"convertToInteractive('df-e4f82bf0-8fc8-4de1-a81c-4701b8692b4e')\"\n",
              "            title=\"Convert this dataframe to an interactive table.\"\n",
              "            style=\"display:none;\">\n",
              "\n",
              "  <svg xmlns=\"http://www.w3.org/2000/svg\" height=\"24px\" viewBox=\"0 -960 960 960\">\n",
              "    <path d=\"M120-120v-720h720v720H120Zm60-500h600v-160H180v160Zm220 220h160v-160H400v160Zm0 220h160v-160H400v160ZM180-400h160v-160H180v160Zm440 0h160v-160H620v160ZM180-180h160v-160H180v160Zm440 0h160v-160H620v160Z\"/>\n",
              "  </svg>\n",
              "    </button>\n",
              "\n",
              "  <style>\n",
              "    .colab-df-container {\n",
              "      display:flex;\n",
              "      gap: 12px;\n",
              "    }\n",
              "\n",
              "    .colab-df-convert {\n",
              "      background-color: #E8F0FE;\n",
              "      border: none;\n",
              "      border-radius: 50%;\n",
              "      cursor: pointer;\n",
              "      display: none;\n",
              "      fill: #1967D2;\n",
              "      height: 32px;\n",
              "      padding: 0 0 0 0;\n",
              "      width: 32px;\n",
              "    }\n",
              "\n",
              "    .colab-df-convert:hover {\n",
              "      background-color: #E2EBFA;\n",
              "      box-shadow: 0px 1px 2px rgba(60, 64, 67, 0.3), 0px 1px 3px 1px rgba(60, 64, 67, 0.15);\n",
              "      fill: #174EA6;\n",
              "    }\n",
              "\n",
              "    .colab-df-buttons div {\n",
              "      margin-bottom: 4px;\n",
              "    }\n",
              "\n",
              "    [theme=dark] .colab-df-convert {\n",
              "      background-color: #3B4455;\n",
              "      fill: #D2E3FC;\n",
              "    }\n",
              "\n",
              "    [theme=dark] .colab-df-convert:hover {\n",
              "      background-color: #434B5C;\n",
              "      box-shadow: 0px 1px 3px 1px rgba(0, 0, 0, 0.15);\n",
              "      filter: drop-shadow(0px 1px 2px rgba(0, 0, 0, 0.3));\n",
              "      fill: #FFFFFF;\n",
              "    }\n",
              "  </style>\n",
              "\n",
              "    <script>\n",
              "      const buttonEl =\n",
              "        document.querySelector('#df-e4f82bf0-8fc8-4de1-a81c-4701b8692b4e button.colab-df-convert');\n",
              "      buttonEl.style.display =\n",
              "        google.colab.kernel.accessAllowed ? 'block' : 'none';\n",
              "\n",
              "      async function convertToInteractive(key) {\n",
              "        const element = document.querySelector('#df-e4f82bf0-8fc8-4de1-a81c-4701b8692b4e');\n",
              "        const dataTable =\n",
              "          await google.colab.kernel.invokeFunction('convertToInteractive',\n",
              "                                                    [key], {});\n",
              "        if (!dataTable) return;\n",
              "\n",
              "        const docLinkHtml = 'Like what you see? Visit the ' +\n",
              "          '<a target=\"_blank\" href=https://colab.research.google.com/notebooks/data_table.ipynb>data table notebook</a>'\n",
              "          + ' to learn more about interactive tables.';\n",
              "        element.innerHTML = '';\n",
              "        dataTable['output_type'] = 'display_data';\n",
              "        await google.colab.output.renderOutput(dataTable, element);\n",
              "        const docLink = document.createElement('div');\n",
              "        docLink.innerHTML = docLinkHtml;\n",
              "        element.appendChild(docLink);\n",
              "      }\n",
              "    </script>\n",
              "  </div>\n",
              "\n",
              "\n",
              "<div id=\"df-3c7a585d-1138-4174-9f97-73d14813f4b8\">\n",
              "  <button class=\"colab-df-quickchart\" onclick=\"quickchart('df-3c7a585d-1138-4174-9f97-73d14813f4b8')\"\n",
              "            title=\"Suggest charts\"\n",
              "            style=\"display:none;\">\n",
              "\n",
              "<svg xmlns=\"http://www.w3.org/2000/svg\" height=\"24px\"viewBox=\"0 0 24 24\"\n",
              "     width=\"24px\">\n",
              "    <g>\n",
              "        <path d=\"M19 3H5c-1.1 0-2 .9-2 2v14c0 1.1.9 2 2 2h14c1.1 0 2-.9 2-2V5c0-1.1-.9-2-2-2zM9 17H7v-7h2v7zm4 0h-2V7h2v10zm4 0h-2v-4h2v4z\"/>\n",
              "    </g>\n",
              "</svg>\n",
              "  </button>\n",
              "\n",
              "<style>\n",
              "  .colab-df-quickchart {\n",
              "      --bg-color: #E8F0FE;\n",
              "      --fill-color: #1967D2;\n",
              "      --hover-bg-color: #E2EBFA;\n",
              "      --hover-fill-color: #174EA6;\n",
              "      --disabled-fill-color: #AAA;\n",
              "      --disabled-bg-color: #DDD;\n",
              "  }\n",
              "\n",
              "  [theme=dark] .colab-df-quickchart {\n",
              "      --bg-color: #3B4455;\n",
              "      --fill-color: #D2E3FC;\n",
              "      --hover-bg-color: #434B5C;\n",
              "      --hover-fill-color: #FFFFFF;\n",
              "      --disabled-bg-color: #3B4455;\n",
              "      --disabled-fill-color: #666;\n",
              "  }\n",
              "\n",
              "  .colab-df-quickchart {\n",
              "    background-color: var(--bg-color);\n",
              "    border: none;\n",
              "    border-radius: 50%;\n",
              "    cursor: pointer;\n",
              "    display: none;\n",
              "    fill: var(--fill-color);\n",
              "    height: 32px;\n",
              "    padding: 0;\n",
              "    width: 32px;\n",
              "  }\n",
              "\n",
              "  .colab-df-quickchart:hover {\n",
              "    background-color: var(--hover-bg-color);\n",
              "    box-shadow: 0 1px 2px rgba(60, 64, 67, 0.3), 0 1px 3px 1px rgba(60, 64, 67, 0.15);\n",
              "    fill: var(--button-hover-fill-color);\n",
              "  }\n",
              "\n",
              "  .colab-df-quickchart-complete:disabled,\n",
              "  .colab-df-quickchart-complete:disabled:hover {\n",
              "    background-color: var(--disabled-bg-color);\n",
              "    fill: var(--disabled-fill-color);\n",
              "    box-shadow: none;\n",
              "  }\n",
              "\n",
              "  .colab-df-spinner {\n",
              "    border: 2px solid var(--fill-color);\n",
              "    border-color: transparent;\n",
              "    border-bottom-color: var(--fill-color);\n",
              "    animation:\n",
              "      spin 1s steps(1) infinite;\n",
              "  }\n",
              "\n",
              "  @keyframes spin {\n",
              "    0% {\n",
              "      border-color: transparent;\n",
              "      border-bottom-color: var(--fill-color);\n",
              "      border-left-color: var(--fill-color);\n",
              "    }\n",
              "    20% {\n",
              "      border-color: transparent;\n",
              "      border-left-color: var(--fill-color);\n",
              "      border-top-color: var(--fill-color);\n",
              "    }\n",
              "    30% {\n",
              "      border-color: transparent;\n",
              "      border-left-color: var(--fill-color);\n",
              "      border-top-color: var(--fill-color);\n",
              "      border-right-color: var(--fill-color);\n",
              "    }\n",
              "    40% {\n",
              "      border-color: transparent;\n",
              "      border-right-color: var(--fill-color);\n",
              "      border-top-color: var(--fill-color);\n",
              "    }\n",
              "    60% {\n",
              "      border-color: transparent;\n",
              "      border-right-color: var(--fill-color);\n",
              "    }\n",
              "    80% {\n",
              "      border-color: transparent;\n",
              "      border-right-color: var(--fill-color);\n",
              "      border-bottom-color: var(--fill-color);\n",
              "    }\n",
              "    90% {\n",
              "      border-color: transparent;\n",
              "      border-bottom-color: var(--fill-color);\n",
              "    }\n",
              "  }\n",
              "</style>\n",
              "\n",
              "  <script>\n",
              "    async function quickchart(key) {\n",
              "      const quickchartButtonEl =\n",
              "        document.querySelector('#' + key + ' button');\n",
              "      quickchartButtonEl.disabled = true;  // To prevent multiple clicks.\n",
              "      quickchartButtonEl.classList.add('colab-df-spinner');\n",
              "      try {\n",
              "        const charts = await google.colab.kernel.invokeFunction(\n",
              "            'suggestCharts', [key], {});\n",
              "      } catch (error) {\n",
              "        console.error('Error during call to suggestCharts:', error);\n",
              "      }\n",
              "      quickchartButtonEl.classList.remove('colab-df-spinner');\n",
              "      quickchartButtonEl.classList.add('colab-df-quickchart-complete');\n",
              "    }\n",
              "    (() => {\n",
              "      let quickchartButtonEl =\n",
              "        document.querySelector('#df-3c7a585d-1138-4174-9f97-73d14813f4b8 button');\n",
              "      quickchartButtonEl.style.display =\n",
              "        google.colab.kernel.accessAllowed ? 'block' : 'none';\n",
              "    })();\n",
              "  </script>\n",
              "</div>\n",
              "    </div>\n",
              "  </div>\n"
            ]
          },
          "metadata": {},
          "execution_count": 55
        }
      ],
      "source": [
        "y = maindf['charges']\n",
        "x = maindf[['smoker','age','bmi']].iloc[:,:]\n",
        "x"
      ]
    },
    {
      "cell_type": "markdown",
      "metadata": {
        "id": "KCHY5PqJ8lIZ"
      },
      "source": [
        "### Normalizing inut columns age and bmi"
      ]
    },
    {
      "cell_type": "code",
      "execution_count": 56,
      "metadata": {
        "id": "Eoqz3vvH8lIZ"
      },
      "outputs": [],
      "source": [
        "x = x.copy()  # Create a copy to avoid modifying the original DataFrame\n",
        "\n",
        "x.loc[:, 'age'] = x['age'] / x['age'].max()\n",
        "x.loc[:, 'bmi'] = x['bmi'] / x['bmi'].max()"
      ]
    },
    {
      "cell_type": "markdown",
      "metadata": {
        "id": "lenIn8Up8lIZ"
      },
      "source": [
        "### Train test split to judge how well our model is performing"
      ]
    },
    {
      "cell_type": "code",
      "execution_count": 59,
      "metadata": {
        "id": "pAYPSgQX8lIZ"
      },
      "outputs": [],
      "source": [
        "from sklearn.model_selection import train_test_split\n",
        "X_train, X_test, y_train, y_test = train_test_split(\n",
        "    x, y, test_size=0.33, random_state=42)"
      ]
    },
    {
      "cell_type": "code",
      "source": [
        "#Finally, we can proceed with the procedure of importing and fitting the Linear Regression model.\n",
        "from sklearn.linear_model import LinearRegression\n",
        "lm = LinearRegression()\n",
        "lm.fit(X_train,y_train)"
      ],
      "metadata": {
        "colab": {
          "base_uri": "https://localhost:8080/",
          "height": 75
        },
        "id": "AGnOib524CzZ",
        "outputId": "61469e64-255d-4fae-d748-2d67c92f0b4d"
      },
      "execution_count": 60,
      "outputs": [
        {
          "output_type": "execute_result",
          "data": {
            "text/plain": [
              "LinearRegression()"
            ],
            "text/html": [
              "<style>#sk-container-id-3 {color: black;background-color: white;}#sk-container-id-3 pre{padding: 0;}#sk-container-id-3 div.sk-toggleable {background-color: white;}#sk-container-id-3 label.sk-toggleable__label {cursor: pointer;display: block;width: 100%;margin-bottom: 0;padding: 0.3em;box-sizing: border-box;text-align: center;}#sk-container-id-3 label.sk-toggleable__label-arrow:before {content: \"▸\";float: left;margin-right: 0.25em;color: #696969;}#sk-container-id-3 label.sk-toggleable__label-arrow:hover:before {color: black;}#sk-container-id-3 div.sk-estimator:hover label.sk-toggleable__label-arrow:before {color: black;}#sk-container-id-3 div.sk-toggleable__content {max-height: 0;max-width: 0;overflow: hidden;text-align: left;background-color: #f0f8ff;}#sk-container-id-3 div.sk-toggleable__content pre {margin: 0.2em;color: black;border-radius: 0.25em;background-color: #f0f8ff;}#sk-container-id-3 input.sk-toggleable__control:checked~div.sk-toggleable__content {max-height: 200px;max-width: 100%;overflow: auto;}#sk-container-id-3 input.sk-toggleable__control:checked~label.sk-toggleable__label-arrow:before {content: \"▾\";}#sk-container-id-3 div.sk-estimator input.sk-toggleable__control:checked~label.sk-toggleable__label {background-color: #d4ebff;}#sk-container-id-3 div.sk-label input.sk-toggleable__control:checked~label.sk-toggleable__label {background-color: #d4ebff;}#sk-container-id-3 input.sk-hidden--visually {border: 0;clip: rect(1px 1px 1px 1px);clip: rect(1px, 1px, 1px, 1px);height: 1px;margin: -1px;overflow: hidden;padding: 0;position: absolute;width: 1px;}#sk-container-id-3 div.sk-estimator {font-family: monospace;background-color: #f0f8ff;border: 1px dotted black;border-radius: 0.25em;box-sizing: border-box;margin-bottom: 0.5em;}#sk-container-id-3 div.sk-estimator:hover {background-color: #d4ebff;}#sk-container-id-3 div.sk-parallel-item::after {content: \"\";width: 100%;border-bottom: 1px solid gray;flex-grow: 1;}#sk-container-id-3 div.sk-label:hover label.sk-toggleable__label {background-color: #d4ebff;}#sk-container-id-3 div.sk-serial::before {content: \"\";position: absolute;border-left: 1px solid gray;box-sizing: border-box;top: 0;bottom: 0;left: 50%;z-index: 0;}#sk-container-id-3 div.sk-serial {display: flex;flex-direction: column;align-items: center;background-color: white;padding-right: 0.2em;padding-left: 0.2em;position: relative;}#sk-container-id-3 div.sk-item {position: relative;z-index: 1;}#sk-container-id-3 div.sk-parallel {display: flex;align-items: stretch;justify-content: center;background-color: white;position: relative;}#sk-container-id-3 div.sk-item::before, #sk-container-id-3 div.sk-parallel-item::before {content: \"\";position: absolute;border-left: 1px solid gray;box-sizing: border-box;top: 0;bottom: 0;left: 50%;z-index: -1;}#sk-container-id-3 div.sk-parallel-item {display: flex;flex-direction: column;z-index: 1;position: relative;background-color: white;}#sk-container-id-3 div.sk-parallel-item:first-child::after {align-self: flex-end;width: 50%;}#sk-container-id-3 div.sk-parallel-item:last-child::after {align-self: flex-start;width: 50%;}#sk-container-id-3 div.sk-parallel-item:only-child::after {width: 0;}#sk-container-id-3 div.sk-dashed-wrapped {border: 1px dashed gray;margin: 0 0.4em 0.5em 0.4em;box-sizing: border-box;padding-bottom: 0.4em;background-color: white;}#sk-container-id-3 div.sk-label label {font-family: monospace;font-weight: bold;display: inline-block;line-height: 1.2em;}#sk-container-id-3 div.sk-label-container {text-align: center;}#sk-container-id-3 div.sk-container {/* jupyter's `normalize.less` sets `[hidden] { display: none; }` but bootstrap.min.css set `[hidden] { display: none !important; }` so we also need the `!important` here to be able to override the default hidden behavior on the sphinx rendered scikit-learn.org. See: https://github.com/scikit-learn/scikit-learn/issues/21755 */display: inline-block !important;position: relative;}#sk-container-id-3 div.sk-text-repr-fallback {display: none;}</style><div id=\"sk-container-id-3\" class=\"sk-top-container\"><div class=\"sk-text-repr-fallback\"><pre>LinearRegression()</pre><b>In a Jupyter environment, please rerun this cell to show the HTML representation or trust the notebook. <br />On GitHub, the HTML representation is unable to render, please try loading this page with nbviewer.org.</b></div><div class=\"sk-container\" hidden><div class=\"sk-item\"><div class=\"sk-estimator sk-toggleable\"><input class=\"sk-toggleable__control sk-hidden--visually\" id=\"sk-estimator-id-3\" type=\"checkbox\" checked><label for=\"sk-estimator-id-3\" class=\"sk-toggleable__label sk-toggleable__label-arrow\">LinearRegression</label><div class=\"sk-toggleable__content\"><pre>LinearRegression()</pre></div></div></div></div></div>"
            ]
          },
          "metadata": {},
          "execution_count": 60
        }
      ]
    },
    {
      "cell_type": "code",
      "source": [
        "print(lm.intercept_)\n",
        "\n",
        "coeff_df = pd.DataFrame(lm.coef_,x.columns,\n",
        "columns=['Coefficient'])\n",
        "\n",
        "print(coeff_df)"
      ],
      "metadata": {
        "colab": {
          "base_uri": "https://localhost:8080/"
        },
        "id": "WG7kbJg04anY",
        "outputId": "e4ada548-cf53-46fc-f0d3-6f12927355c6"
      },
      "execution_count": 61,
      "outputs": [
        {
          "output_type": "stream",
          "name": "stdout",
          "text": [
            "-1270.7213250108998\n",
            "         Coefficient\n",
            "smoker      0.000000\n",
            "age     19208.329583\n",
            "bmi      4849.113624\n"
          ]
        }
      ]
    },
    {
      "cell_type": "code",
      "source": [
        "predictions = lm.predict(X_test)\n",
        "print(\"Predicted medical costs values:\", predictions)\n"
      ],
      "metadata": {
        "colab": {
          "base_uri": "https://localhost:8080/"
        },
        "id": "micx2oqO6AxF",
        "outputId": "476250ed-0f65-4be0-d9af-398591ae6504"
      },
      "execution_count": 62,
      "outputs": [
        {
          "output_type": "stream",
          "name": "stdout",
          "text": [
            "Predicted medical costs values: [15418.55407095 12251.7483525  21275.7858612  15770.27053582\n",
            "  7321.49019095 12906.75505488  7464.93634797 21368.09821461\n",
            " 11708.05948805 16937.19027991 10846.46253691 13803.0803932\n",
            " 14017.34085918 16458.54058261 20441.3470952  16359.55555728\n",
            " 17388.79679319 16150.49522748 15978.87835408 14973.05271693\n",
            " 12301.86213191 14675.75263754  7183.02166082 12236.01795688\n",
            " 17186.63913757 17984.42446912 19913.71864381 12585.36435591\n",
            " 16147.78015826  6859.36091121 14291.2253398  18717.83816139\n",
            " 11189.12877105  9538.70419685 12249.03328328 15837.57975361\n",
            " 11327.59730117 15245.91717335 17725.02035767 12728.69551181\n",
            "  7925.14058044 11470.82094891 18776.54965999 19646.1693247\n",
            " 11869.0311009  19830.79403153 11076.90591003 12338.06305481\n",
            " 14890.24310577 11507.69689264 20922.71186172  7694.69720731\n",
            " 14483.99525429  7401.92224329 18652.56149903 16732.31755507\n",
            " 10942.39498261 11145.68766356 19132.45372982 17654.428558\n",
            " 20515.451479   11636.54767938 20304.35110081 14801.09833311\n",
            " 17430.4353475  13386.42477638 11264.24568608 17930.46059517\n",
            " 12267.01874361 12208.41475317 13487.33484899 15548.99239454\n",
            " 16151.96776322 13451.70143874 15379.5230777  13147.72119447\n",
            " 12873.61420457 18762.9743139  13120.80050454 15466.06778227\n",
            " 10749.62506813 20958.46027309 12235.56544535 11952.29322359\n",
            " 13482.68723953 16616.9271133  10590.34100733 18293.15233804\n",
            " 14411.93841185 17948.56105663 21085.16350327 21013.78168165\n",
            " 16105.69658538 11440.27267372 11869.0311009  14048.34164591\n",
            " 12156.82843802 10719.75930673 10779.03831799 12262.49362824\n",
            " 11208.92427752  7952.29127262 14687.28793524 18803.70035217\n",
            " 20083.07295953  7326.35281672 14712.52107311 17432.69790519\n",
            "  6979.72897988 17702.39478085  7427.37789045 13745.03642246\n",
            " 19159.15191046 11823.44243686 16221.3170294  10719.75930673\n",
            " 20230.02420772 14956.30979008 12621.56527882 12014.73981561\n",
            " 11951.95571318 14138.84395318 18109.65516357 12179.11650443\n",
            " 13197.27495419 14026.62109216 14860.37734437 17040.3629102\n",
            " 19631.68895554 12426.52531369 12156.82843802 12340.77812403\n",
            " 12479.24665416 15709.06647729 13493.33250009 19794.59310862\n",
            " 11832.37766646 14349.94433137 15460.07013117 12619.75523268\n",
            " 12872.14166884 17105.30206215 12740.46081176 18033.18071392\n",
            " 12468.38637728 16657.53815045 12023.3375348  11571.9535308\n",
            " 17328.84276111 11994.15428719 17972.09165652 12084.42659221\n",
            "  7854.88629118 11677.16620949 13805.45045904 12071.87127031\n",
            " 20634.00950152 16398.4715494   7428.28291353 13791.20009213\n",
            " 19017.96831112  7666.75649318 21159.49039636 11756.80823989\n",
            " 11683.501371   14999.75089757 21049.4150919  18656.74910398\n",
            " 14772.25259591 11976.05382573 16268.37822918 13466.18180791\n",
            " 14385.23273824 11285.51372829 11991.20921572 16040.08241261\n",
            "  7843.6885039  21601.14165583 10241.34710464 18839.56376467\n",
            " 21053.03518419  9555.10961328 14606.52586545 11983.63152073\n",
            " 13467.53934252 11951.50320164 14021.86597455 11145.1201509\n",
            " 16937.86530073 18643.39626718 11991.20921572  7676.14423432\n",
            " 11636.44017122 11318.54707045 21151.68269911 17122.044989\n",
            "  7554.98614371 18455.03646693  7418.2126586  16957.66830017\n",
            " 12550.40596649 18017.34281015 11745.1504481   7813.37023096\n",
            " 11067.28816665 12979.04939254 17030.97516906 11473.53601813\n",
            " 16769.1934988  12021.30497937 20479.25055609 18911.96561049\n",
            " 16885.71147293 12887.97957261 13899.35034932 11165.93568157\n",
            " 12106.14714595 19860.65979293 19862.13232867 12338.96807789\n",
            " 11266.9607553  15512.56146938 14045.16657219 15079.39292797\n",
            " 11630.10500971 13001.33745895  7201.12212228  7200.21709921\n",
            " 16753.70059841 17188.78669412 11368.32333944 15669.48295731\n",
            " 13565.7343459  15055.86232808 16295.53641433 16770.66603453\n",
            " 12328.22280214 14721.00379118 15288.45325776 11689.83653251\n",
            " 18396.44746242 13647.18642245 12354.80598166 13147.72119447\n",
            "  7615.17017804 12345.41824052 13528.06088726 11484.396295\n",
            " 18867.15947542  6013.73185089 11317.07453471 13929.21611072\n",
            " 13374.2069649  18853.13911076  7312.89247176 12250.27581676\n",
            " 20257.62741144 12603.34981624 16468.84083979 10793.18117674\n",
            " 14236.01893237 19850.93454138 13377.25954453 20813.20406992\n",
            " 19500.79812041 13576.47962165 19227.02114795 17140.14545045\n",
            " 14340.78659248 15942.33992076 17791.08704198 13541.29872294\n",
            " 17784.41437006 21390.6087903  11737.80275536  6988.32669907\n",
            " 14474.94502356 12938.32335427 11959.19589776 17090.70669186\n",
            " 17049.86565246 21497.06400247 15775.24816272 16749.96550499\n",
            " 12556.741128   12521.78273857 17450.56836439 18419.17305443\n",
            " 11140.142524   12458.88363502  7021.36004122 19284.83511644\n",
            " 11459.06314194 16360.57558147 15340.26957516 18016.5527882\n",
            " 16830.39755733 11325.90974912 12077.18640762 12567.37140262\n",
            " 11721.17482964 14545.87433364  7200.21709921  7692.54965076\n",
            " 20029.89910753 10948.73014412 10501.64874621 21003.82642785\n",
            " 12837.06827828  7605.09992311 12645.77089953  6849.40565741\n",
            " 12322.67766258 20651.20493991 11047.04014864 17723.77782419\n",
            " 18223.01304991 19438.35152839 13608.60794073 18598.26011467\n",
            " 16251.52030121 14075.49233809 21239.46993716 10574.95561509\n",
            " 15949.91761575 15737.57470408 19733.61905234 18087.259589\n",
            " 12974.74678646 19120.45842762 20135.44929662 19292.19030215\n",
            " 11992.68175145  7178.49654546 14070.96722273 11979.5589169\n",
            " 13438.46360306 17628.85790971 16100.71895848 16055.80531526\n",
            " 20925.42693094 11939.74539467 13420.81565315 12564.31882299\n",
            "  6857.09835353 15642.09476991 13606.79789459  6968.868703\n",
            " 16785.71391636 15950.82263882 12282.28913472  7454.52858264\n",
            " 17275.89891136 12009.87718983 12320.4151049   7586.09443859\n",
            " 17480.43412579 13157.00142745 15850.36507775 13842.9014084\n",
            " 10746.90999891 14835.94172141 14106.26312256 12526.43034803\n",
            " 15536.65958194 13147.72119447 19497.40803037 12312.60740765\n",
            " 16477.43855898 16453.45544755 14680.39275403 19791.64803715\n",
            " 12610.24499745 10822.02691394  9608.05346304 19046.69904719\n",
            " 13900.5928828  18283.64959578 17378.39652082 13170.79928283\n",
            " 12477.43660801 14974.41025154 16194.50384763 15322.73662637\n",
            " 17184.94409255 20996.58624327 19666.41734271 15341.96462018\n",
            " 20510.69636139 16875.98622138 13274.6544269  12353.2184448\n",
            " 12877.34929799 12583.89182018 16177.87592191 11678.97625563\n",
            " 19331.55880581 17785.31190016 13126.9056638   7599.21727314\n",
            " 19402.15060548 10719.75930673 19857.26970289 15938.15231581\n",
            " 17823.33036218 18013.50020858 13355.30898853 16110.67421228\n",
            " 12216.55996082 12564.88633565 18929.83606969 13052.69377184\n",
            " 15825.13193988 11891.65667772 13696.39517878 17922.88290018\n",
            " 14769.8750371  10458.66015025 12632.19555344 19542.31418062\n",
            " 12400.05713529 11351.35790332 13821.06585353  7210.17235301\n",
            " 12349.82835476 15272.39284471 12154.1133688  13130.75575834\n",
            " 11701.60183245 19071.24967128 11991.20921572 15537.90211542\n",
            " 15429.86685936 10844.76749189 10653.24760385 11974.58129\n",
            " 12911.74017475 14830.51158298 18731.29850636 17477.94905882\n",
            " 13121.47552537 11670.83104798]\n"
          ]
        }
      ]
    },
    {
      "cell_type": "markdown",
      "source": [],
      "metadata": {
        "id": "DMt3C8D56raG"
      }
    },
    {
      "cell_type": "markdown",
      "source": [
        "Graphical comparison of expected values of our analysis"
      ],
      "metadata": {
        "id": "Pd0AueV66rgW"
      }
    },
    {
      "cell_type": "code",
      "source": [
        "\n",
        "\n",
        " plt.scatter(y_test, predictions)"
      ],
      "metadata": {
        "colab": {
          "base_uri": "https://localhost:8080/",
          "height": 447
        },
        "id": "kokhVnjh6dFI",
        "outputId": "72e3ea04-9ed2-4d3c-9906-4a6e6c170b2e"
      },
      "execution_count": 64,
      "outputs": [
        {
          "output_type": "execute_result",
          "data": {
            "text/plain": [
              "<matplotlib.collections.PathCollection at 0x79da7261c190>"
            ]
          },
          "metadata": {},
          "execution_count": 64
        },
        {
          "output_type": "display_data",
          "data": {
            "text/plain": [
              "<Figure size 640x480 with 1 Axes>"
            ],
            "image/png": "[encoded data removed]"
          },
          "metadata": {}
        }
      ]
    },
    {
      "cell_type": "markdown",
      "source": [
        "## Finally, let’s calculate and print mean absolute error (MAE) and mean squared error (MSE) for our predictions"
      ],
      "metadata": {
        "id": "6pBlyNoI7Hcb"
      }
    },
    {
      "cell_type": "code",
      "source": [
        "from sklearn import metrics\n",
        "print(\"MAE\",metrics.mean_absolute_error(y_test, predictions))\n",
        "print(\"MSE\",metrics.mean_squared_error(y_test, predictions))"
      ],
      "metadata": {
        "colab": {
          "base_uri": "https://localhost:8080/"
        },
        "id": "Xy6kzo6k7HEh",
        "outputId": "44e0352d-7025-4598-8c17-f3af012a477e"
      },
      "execution_count": 66,
      "outputs": [
        {
          "output_type": "stream",
          "name": "stdout",
          "text": [
            "MAE 10299.966484956152\n",
            "MSE 156715808.7727833\n"
          ]
        }
      ]
    },
    {
      "cell_type": "markdown",
      "source": [],
      "metadata": {
        "id": "iouPEmBi6qUI"
      }
    },
    {
      "cell_type": "markdown",
      "metadata": {
        "id": "OzyBft_f8lIZ"
      },
      "source": [
        "### Decision Tree Regressor"
      ]
    },
    {
      "cell_type": "code",
      "execution_count": 67,
      "metadata": {
        "scrolled": true,
        "id": "ZUxKGk3B8lIZ",
        "colab": {
          "base_uri": "https://localhost:8080/"
        },
        "outputId": "e1a53f36-d648-47fb-bce8-147e50496adc"
      },
      "outputs": [
        {
          "output_type": "execute_result",
          "data": {
            "text/plain": [
              "17918.175292666747"
            ]
          },
          "metadata": {},
          "execution_count": 67
        }
      ],
      "source": [
        "from sklearn.datasets import load_diabetes\n",
        "from sklearn.model_selection import cross_val_score\n",
        "from sklearn.tree import DecisionTreeRegressor\n",
        "\n",
        "#X, y = load_diabetes(return_X_y=True)\n",
        "regressor = DecisionTreeRegressor()\n",
        "\n",
        "cross_val_score(regressor, X_train, y_train, cv=10)\n",
        "regressor=regressor.fit(X_train,y_train)\n",
        "\n",
        "from sklearn.metrics import mean_squared_error\n",
        "from math import sqrt\n",
        "\n",
        "y_pred = regressor.predict(X_test)\n",
        "sqrt(mean_squared_error(y_test, y_pred,squared=True))\n"
      ]
    },
    {
      "cell_type": "markdown",
      "metadata": {
        "id": "Ua0H_r1m8lIZ"
      },
      "source": [
        "THE Root Mean Square Error (RMSE) SCORE: 9781 is of base model difference between a statistical model’s predicted values and the actual values"
      ]
    },
    {
      "cell_type": "code",
      "execution_count": 68,
      "metadata": {
        "id": "sH0O6lZj8lIZ",
        "colab": {
          "base_uri": "https://localhost:8080/"
        },
        "outputId": "d31de2aa-56d5-4319-8656-dc792119119b"
      },
      "outputs": [
        {
          "output_type": "stream",
          "name": "stdout",
          "text": [
            "        0         1         2\n",
            "0  smoker       age       bmi\n",
            "1     0.0  0.325169  0.674831\n"
          ]
        }
      ],
      "source": [
        "print(pd.DataFrame(data=[x.columns,regressor.feature_importances_,]))"
      ]
    },
    {
      "cell_type": "markdown",
      "metadata": {
        "id": "oARM5AqX8lIa"
      },
      "source": [
        "The model is also showing the data analysis part to be strong by suggesting the smoker columns are the most important (61%) of all three variables above."
      ]
    },
    {
      "cell_type": "markdown",
      "metadata": {
        "id": "7VNQpZx58lIa"
      },
      "source": [
        "# HYPER PARAMETER TUNING : finding the best settings for a machine learning model"
      ]
    },
    {
      "cell_type": "code",
      "execution_count": 70,
      "metadata": {
        "id": "8tuQzF5l8lIa"
      },
      "outputs": [],
      "source": [
        "final_regressor = DecisionTreeRegressor(criterion='friedman_mse', splitter='best', max_depth=10, min_samples_split=50,min_samples_leaf=5, min_weight_fraction_leaf=0.001, max_features=2, random_state=None, max_leaf_nodes=None, min_impurity_decrease=0.0, ccp_alpha=0.01)\n",
        "\n",
        "cross_val_score(final_regressor, X_train, y_train, cv=10)\n",
        "final_regressor = final_regressor.fit(X_train, y_train)\n",
        "\n",
        "from sklearn.metrics import mean_squared_error\n",
        "from math import sqrt\n",
        "\n",
        "y_pred = final_regressor.predict(X_test)\n",
        "sqrt_mean_squared_error = sqrt(mean_squared_error(y_test, y_pred))\n"
      ]
    },
    {
      "cell_type": "markdown",
      "metadata": {
        "id": "B3erZZOM8lIa"
      },
      "source": [
        "The model looks better after hyperparameter tuning. So, lets try XGboost regressor and see if this will produce a better result than this."
      ]
    },
    {
      "cell_type": "code",
      "execution_count": 71,
      "metadata": {
        "id": "h8_KE2uy8lIa",
        "colab": {
          "base_uri": "https://localhost:8080/"
        },
        "outputId": "70f2458e-342c-4380-d6ef-24ed54f158d4"
      },
      "outputs": [
        {
          "output_type": "execute_result",
          "data": {
            "text/plain": [
              "12767.794701575924"
            ]
          },
          "metadata": {},
          "execution_count": 71
        }
      ],
      "source": [
        "from sklearn import ensemble\n",
        "regressor = ensemble.GradientBoostingRegressor(\n",
        "    loss='squared_error', learning_rate=0.01, n_estimators=70, subsample=1.0,\n",
        "    criterion='friedman_mse', min_samples_split=50, min_samples_leaf=5,\n",
        "    min_weight_fraction_leaf=0.0, max_depth=10, min_impurity_decrease=0.0,\n",
        "    init=None, random_state=None, max_features=None, alpha=0.9,\n",
        "    verbose=0, max_leaf_nodes=None, warm_start=False,\n",
        "    validation_fraction=0.1, n_iter_no_change=None, tol=0.0001, ccp_alpha=0.01\n",
        ")\n",
        "\n",
        "cross_val_score(regressor, X_train, y_train, cv=10)\n",
        "regressor=regressor.fit(X_train,y_train)\n",
        "\n",
        "from sklearn.metrics import mean_squared_error\n",
        "from math import sqrt\n",
        "\n",
        "y_pred = regressor.predict(X_test)\n",
        "sqrt(mean_squared_error(y_test, y_pred,squared=True))"
      ]
    }
  ],
  "metadata": {
    "kernelspec": {
      "display_name": "Python 3",
      "language": "python",
      "name": "python3"
    },
    "language_info": {
      "codemirror_mode": {
        "name": "ipython",
        "version": 3
      },
      "file_extension": ".py",
      "mimetype": "text/x-python",
      "name": "python",
      "nbconvert_exporter": "python",
      "pygments_lexer": "ipython3",
      "version": "3.7.4"
    },
    "colab": {
      "provenance": []
    }
  },
  "nbformat": 4,
  "nbformat_minor": 0
}